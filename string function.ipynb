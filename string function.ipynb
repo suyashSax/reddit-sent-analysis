{
 "cells": [
  {
   "cell_type": "code",
   "execution_count": 8,
   "metadata": {
    "collapsed": true
   },
   "outputs": [],
   "source": [
    "import re"
   ]
  },
  {
   "cell_type": "code",
   "execution_count": 26,
   "metadata": {
    "collapsed": false
   },
   "outputs": [
    {
     "name": "stdout",
     "output_type": "stream",
     "text": [
      "That said, is the WSJ (\"our guiding philosophy in five words is 'there shall be open borders'\") really *that* socially conservative?\n",
      "That said, is the WSJ (\"our guiding philosophy in five words is 'there shall be open borders'\") really *that* socially conservative?\n",
      "That said, is the WSJ (\"our guiding philosophy in five words is 'there shall be open borders'\") really *that* socially conservative?\n",
      "That said , is the WSJ ( \"our guiding philosophy in five words is ' there shall be open borders ' \" ) really *that* socially conservative ?\n"
     ]
    },
    {
     "data": {
      "text/plain": [
       "\"that said , is the wsj our guiding philosophy in five words is ' there shall be open borders ' really that socially conservative ?\""
      ]
     },
     "execution_count": 26,
     "metadata": {},
     "output_type": "execute_result"
    }
   ],
   "source": [
    "def stuff(s):\n",
    "    # 1. Replace new lines and tab characters with a single space.\n",
    "    s = replaceBreaks(s)\n",
    "    print(s)\n",
    "    \n",
    "    # 2. Remove URLs\n",
    "    s = splitURLs(s)\n",
    "    print(s)\n",
    "    \n",
    "    # 3. Split text on a single space. \n",
    "    # If there are multiple contiguous spaces, you will need to remove empty tokens after doing the split.\n",
    "    s = splitSpace(s)\n",
    "    print(s)\n",
    "    # 4. Separate all external punctuation such as periods, commas, etc. into their own tokens\n",
    "    s = stepFour(s)\n",
    "    print(s)\n",
    "    # 5\n",
    "    s = stepFive(s)\n",
    "    \n",
    "    # 6. Convert all text to lowercase\n",
    "    s = s.lower()\n",
    "    \n",
    "    # remove extraneous white space\n",
    "    s = re.sub(\"\\\\s+\",\" \", s)\n",
    "    \n",
    "    return s\n",
    "    \n",
    "stuff(\"That said, is the WSJ (\\\"our guiding philosophy in five words is 'there shall be open borders'\\\") really *that* socially conservative?\")\n",
    "    "
   ]
  },
  {
   "cell_type": "code",
   "execution_count": 25,
   "metadata": {
    "collapsed": true
   },
   "outputs": [],
   "source": [
    "def replaceBreaks(s):\n",
    "    s.replace('\\n', ' ')\n",
    "    s.replace('\\t', ' ')\n",
    "    return s"
   ]
  },
  {
   "cell_type": "code",
   "execution_count": 3,
   "metadata": {
    "collapsed": true
   },
   "outputs": [],
   "source": [
    "def splitURLs(s):\n",
    "    return re.sub(r'http\\S+', '', s)"
   ]
  },
  {
   "cell_type": "code",
   "execution_count": 11,
   "metadata": {
    "collapsed": true
   },
   "outputs": [],
   "source": [
    "def splitSpace(s):\n",
    "    s = s.split()\n",
    "    s = filter(None, s)\n",
    "    s = ' '.join(s)\n",
    "    return s"
   ]
  },
  {
   "cell_type": "code",
   "execution_count": 19,
   "metadata": {
    "collapsed": false
   },
   "outputs": [
    {
     "data": {
      "text/plain": [
       "\"hi im learning; parsing is cool  ' 0528 \""
      ]
     },
     "execution_count": 19,
     "metadata": {},
     "output_type": "execute_result"
    }
   ],
   "source": [
    "def stepFive(s):\n",
    "#     regex = \"\\d+\"\n",
    "    s = s.lower()\n",
    "    regex = \"[^a-z0-9.,?!;:' ]\"\n",
    "    v = re.sub(regex,\" \",s)\n",
    "    return v\n",
    "stepFive(\"hi im learning; parsing-is-cool_ ' 0528-\")"
   ]
  },
  {
   "cell_type": "code",
   "execution_count": 14,
   "metadata": {
    "collapsed": false
   },
   "outputs": [
    {
     "data": {
      "text/plain": [
       "\"I'm afraid I can't explain myself , sir . Because I am not myself , you see ?\""
      ]
     },
     "execution_count": 14,
     "metadata": {},
     "output_type": "execute_result"
    }
   ],
   "source": [
    "from string import punctuation\n",
    "\n",
    "def stepFour(s):\n",
    "    #split the string by whitespace into a list\n",
    "    s = s.split()\n",
    "    \n",
    "    #duplicate that list so we can do some modifications on that list\n",
    "    final_strings = s[:]\n",
    "    \n",
    "    for word in range(len(s)):\n",
    "        #pad any punctuation with white space using regex\n",
    "        x = re.sub(\"(?<! )(?=['_.:,!;?()-])|(?<=['_.:,!;?()-])(?! )\", r' ', s[word])\n",
    "        s[word] = x\n",
    "        \n",
    "        \n",
    "        final_strings[word] = s[word]\n",
    "\n",
    "        #iterate through each string in the list\n",
    "        for char in range(len(s[word])):\n",
    "            if(s[word][char] in punctuation):\n",
    "                #if there is a punctuation mark that is surrounded by two letters, then delete the whitespace\n",
    "                if(char - 2 >= 0 and char+2 <= len(s[word])-1):\n",
    "                    if((s[word][char-2].isalpha() or s[word][char-2].isdigit()) and (s[word][char+2].isalpha() or s[word][char-2].isdigit())):\n",
    "                        final_strings[word] = s[word][:char-1] + s[word][char] + s[word][char+2:]\n",
    "                                            \n",
    "\n",
    "    s = ' '.join(final_strings)\n",
    "    s = re.sub(\"\\\\s+\",\" \", s)\n",
    "    s = s.strip()\n",
    "    return s\n",
    "\n",
    "stepFour(\"I'm afraid I can't explain myself, sir. Because I am not myself, you see?\")"
   ]
  },
  {
   "cell_type": "code",
   "execution_count": null,
   "metadata": {
    "collapsed": true
   },
   "outputs": [],
   "source": []
  },
  {
   "cell_type": "code",
   "execution_count": null,
   "metadata": {
    "collapsed": true
   },
   "outputs": [],
   "source": []
  }
 ],
 "metadata": {
  "anaconda-cloud": {},
  "kernelspec": {
   "display_name": "Python [conda root]",
   "language": "python",
   "name": "conda-root-py"
  },
  "language_info": {
   "codemirror_mode": {
    "name": "ipython",
    "version": 3
   },
   "file_extension": ".py",
   "mimetype": "text/x-python",
   "name": "python",
   "nbconvert_exporter": "python",
   "pygments_lexer": "ipython3",
   "version": "3.5.2"
  }
 },
 "nbformat": 4,
 "nbformat_minor": 2
}
