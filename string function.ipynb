{
 "cells": [
  {
   "cell_type": "code",
   "execution_count": 8,
   "metadata": {
    "collapsed": true
   },
   "outputs": [],
   "source": [
    "import re"
   ]
  },
  {
   "cell_type": "code",
   "execution_count": 26,
   "metadata": {},
   "outputs": [
    {
     "name": "stdout",
     "output_type": "stream",
     "text": [
      "That said, is the WSJ (\"our guiding philosophy in five words is 'there shall be open borders'\") really *that* socially conservative?\n",
      "That said, is the WSJ (\"our guiding philosophy in five words is 'there shall be open borders'\") really *that* socially conservative?\n",
      "That said, is the WSJ (\"our guiding philosophy in five words is 'there shall be open borders'\") really *that* socially conservative?\n",
      "That said , is the WSJ ( \"our guiding philosophy in five words is ' there shall be open borders ' \" ) really *that* socially conservative ?\n"
     ]
    },
    {
     "data": {
      "text/plain": [
       "\"that said , is the wsj our guiding philosophy in five words is ' there shall be open borders ' really that socially conservative ?\""
      ]
     },
     "execution_count": 26,
     "metadata": {},
     "output_type": "execute_result"
    }
   ],
   "source": [
    "def stuff(s):\n",
    "    # 1. Replace new lines and tab characters with a single space.\n",
    "    s = replaceBreaks(s)\n",
    "    print(s)\n",
    "    \n",
    "    # 2. Remove URLs\n",
    "    s = splitURLs(s)\n",
    "    print(s)\n",
    "    \n",
    "    # 3. Split text on a single space. \n",
    "    # If there are multiple contiguous spaces, you will need to remove empty tokens after doing the split.\n",
    "    s = splitSpace(s)\n",
    "    print(s)\n",
    "    # 4. Separate all external punctuation such as periods, commas, etc. into their own tokens\n",
    "    s = stepFour(s)\n",
    "    print(s)\n",
    "    # 5\n",
    "    s = stepFive(s)\n",
    "    \n",
    "    # 6. Convert all text to lowercase\n",
    "    s = s.lower()\n",
    "    \n",
    "    # remove extraneous white space\n",
    "    s = re.sub(\"\\\\s+\",\" \", s)\n",
    "    \n",
    "    return s\n",
    "    \n",
    "stuff(\"That said, is the WSJ (\\\"our guiding philosophy in five words is 'there shall be open borders'\\\") really *that* socially conservative?\")\n",
    "    "
   ]
  },
  {
   "cell_type": "code",
   "execution_count": 25,
   "metadata": {
    "collapsed": true
   },
   "outputs": [],
   "source": [
    "def replaceBreaks(s):\n",
    "    s.replace('\\n', ' ')\n",
    "    s.replace('\\t', ' ')\n",
    "    return s"
   ]
  },
  {
   "cell_type": "code",
   "execution_count": 3,
   "metadata": {
    "collapsed": true
   },
   "outputs": [],
   "source": [
    "def splitURLs(s):\n",
    "    return re.sub(r'http\\S+', '', s)"
   ]
  },
  {
   "cell_type": "code",
   "execution_count": 11,
   "metadata": {
    "collapsed": true
   },
   "outputs": [],
   "source": [
    "def splitSpace(s):\n",
    "    s = s.split()\n",
    "    s = filter(None, s)\n",
    "    s = ' '.join(s)\n",
    "    return s"
   ]
  },
  {
   "cell_type": "code",
   "execution_count": 19,
   "metadata": {},
   "outputs": [
    {
     "data": {
      "text/plain": [
       "\"hi im learning; parsing is cool  ' 0528 \""
      ]
     },
     "execution_count": 19,
     "metadata": {},
     "output_type": "execute_result"
    }
   ],
   "source": [
    "def stepFive(s):\n",
    "#     regex = \"\\d+\"\n",
    "    s = s.lower()\n",
    "    regex = \"[^a-z0-9.,?!;:' ]\"\n",
    "    v = re.sub(regex,\" \",s)\n",
    "    return v\n",
    "stepFive(\"hi im learning; parsing-is-cool_ ' 0528-\")"
   ]
  },
  {
   "cell_type": "code",
   "execution_count": 81,
   "metadata": {},
   "outputs": [
    {
     "name": "stdout",
     "output_type": "stream",
     "text": [
      "100%\n",
      "100%\n",
      "avoidable.\n"
     ]
    },
    {
     "data": {
      "text/plain": [
       "'Those are poor choices and are 100% avoidable .'"
      ]
     },
     "execution_count": 81,
     "metadata": {},
     "output_type": "execute_result"
    }
   ],
   "source": [
    "from string import punctuation\n",
    "\n",
    "def stepFour(s):\n",
    "    #split the string by whitespace into a list\n",
    "    s = s.split()\n",
    "\n",
    "    modify_ends = s[:]\n",
    "    result_strings = s[:]\n",
    "\n",
    "    for word in range(len(s)):\n",
    "        if(s[word][0] in punctuation and s[word][-1] in punctuation):\n",
    "            if((s[word][0] == '$' or s[word][0] == '%') and (s[word][-1] == \"$\" or s[word][-1])== '%'):\n",
    "                modify_ends[word] = s[word]\n",
    "            elif((s[word][0] == '$' or s[word][0] == '%')):\n",
    "                modify_ends[word] = s[word][0:-1] + \" \" + s[word][-1]\n",
    "            elif((s[word][-1] == '$' or s[word][-1] == '%')):\n",
    "                modify_ends[word] = s[word][0] + \" \" + s[word][1:-1]\n",
    "            else:\n",
    "                modify_ends[word] = s[word][0] + \" \" + s[word][1:-1] + \" \" + s[word][-1]\n",
    "\n",
    "        elif(s[word][-1] in punctuation):\n",
    "            print(s[word])\n",
    "            if(s[word][-1] == '$' or s[word][-1] == '%'):\n",
    "                print(s[word])\n",
    "                modify_ends[word] = s[word]\n",
    "            else:\n",
    "                modify_ends[word] = s[word][:-1] + \" \" + s[word][-1]\n",
    "\n",
    "        elif(s[word][0] in punctuation):\n",
    "            print(s[word])\n",
    "            if(s[word] == \"'ol\" or s[word] == \"'tis'\"):\n",
    "                result_strings[word] = modify_ends[word]\n",
    "            elif(s[word][0] == '$' or s[word][0] == '%'):\n",
    "                print(modify_ends[word])\n",
    "                result_strings[word] = modify_ends[word]\n",
    "            else:\n",
    "                modify_ends[word] = s[word][0] + \" \" + s[word][1:]\n",
    "            #print final_strings[word]\n",
    "\n",
    "        else:\n",
    "            result_strings[word] = modify_ends[word]\n",
    "            continue\n",
    "\n",
    "        #print(final_strings)\n",
    "\n",
    "        result_strings[word] = modify_ends[word][0]\n",
    "\n",
    "        #print(final_strings[word])\n",
    "\n",
    "        for char in range(1, len(modify_ends[word])-1):\n",
    "            if(modify_ends[word][char] in punctuation):\n",
    "                if((modify_ends[word][char-1].isalpha() or modify_ends[word][char-1].isdigit()) and (modify_ends[word][char+1].isalpha() or modify_ends[word][char-1].isdigit())):\n",
    "                    result_strings[word] += modify_ends[word][char]\n",
    "                elif (modify_ends[word][char-1].isalpha() or modify_ends[word][char-1].isdigit()):\n",
    "                    if(modify_ends[word][char] == \"%\" or modify_ends[word][char] == \"$\"):\n",
    "                        result_strings[word] += modify_ends[word][char]\n",
    "                    else:\n",
    "                        result_strings[word] += \" \" + modify_ends[word][char]\n",
    "                    #print(result_strings[word])\n",
    "\n",
    "                elif (modify_ends[word][char+1].isalpha() or modify_ends[word][char+1].isdigit()):\n",
    "                    if(modify_ends[word][char] == \"%\" or modify_ends[word][char] == \"$\"):\n",
    "                        result_strings[word] += modify_ends[word][char]\n",
    "                    else:\n",
    "                        result_strings[word] += modify_ends[word][char]+ \" \"\n",
    "\n",
    "                else:\n",
    "                    result_strings[word] += \" \" + modify_ends[word][char]\n",
    "\n",
    "            else:\n",
    "                result_strings[word] += modify_ends[word][char]\n",
    "\n",
    "        if(len(s[word]) > 1):\n",
    "            result_strings[word] += modify_ends[word][-1]\n",
    "\n",
    "    s = ' '.join(result_strings)\n",
    "    s = re.sub(\"\\\\s+\",\" \", s)\n",
    "    s = s.strip()\n",
    "    return s\n",
    "\n",
    "stepFour(\"Those are poor choices and are 100% avoidable.\")"
   ]
  },
  {
   "cell_type": "code",
   "execution_count": null,
   "metadata": {
    "collapsed": true
   },
   "outputs": [],
   "source": []
  },
  {
   "cell_type": "code",
   "execution_count": null,
   "metadata": {
    "collapsed": true
   },
   "outputs": [],
   "source": []
  }
 ],
 "metadata": {
  "anaconda-cloud": {},
  "kernelspec": {
   "display_name": "Python 2",
   "language": "python",
   "name": "python2"
  },
  "language_info": {
   "codemirror_mode": {
    "name": "ipython",
    "version": 2
   },
   "file_extension": ".py",
   "mimetype": "text/x-python",
   "name": "python",
   "nbconvert_exporter": "python",
   "pygments_lexer": "ipython2",
   "version": "2.7.13"
  }
 },
 "nbformat": 4,
 "nbformat_minor": 2
}
