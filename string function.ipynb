{
 "cells": [
  {
   "cell_type": "code",
   "execution_count": 21,
   "metadata": {
    "collapsed": true
   },
   "outputs": [],
   "source": [
    "import re"
   ]
  },
  {
   "cell_type": "code",
   "execution_count": 14,
   "metadata": {
    "collapsed": true
   },
   "outputs": [],
   "source": [
    "def stuff(s):\n",
    "    # 1. Replace new lines and tab characters with a single space.\n",
    "    s.replace('\\n', ' ')\n",
    "    s.replace('\\t', ' ')\n",
    "    \n",
    "    # 2. Remove URLs\n",
    "    \n",
    "    # 3. Split text on a single space. \n",
    "    # If there are multiple contiguous spaces, you will need to remove empty tokens after doing the split.\n",
    "    \n",
    "    \n",
    "    # 4. Separate all external punctuation such as periods, commas, etc. into their own tokens\n",
    "    \n",
    "    # 5/\n",
    "    \n",
    "    # 6. Convert all text to lowercase\n",
    "    s.lower()\n",
    "\n",
    "    '%'\n",
    "    "
   ]
  },
  {
   "cell_type": "code",
   "execution_count": 29,
   "metadata": {
    "collapsed": false
   },
   "outputs": [
    {
     "name": "stdout",
     "output_type": "stream",
     "text": [
      "hi im learning; parsingiscool ' 0528\n"
     ]
    }
   ],
   "source": [
    "def stepFive(s):\n",
    "#     regex = \"\\d+\"\n",
    "    regex = \"[^a-z0-9.,?!;:' ]\"\n",
    "    v = re.sub(regex,\"\",s)\n",
    "    print(v)\n",
    "\n",
    "    \n",
    "stepFive(\"hi im learning; parsing-is-cool_ ' 0528-\")"
   ]
  }
 ],
 "metadata": {
  "anaconda-cloud": {},
  "kernelspec": {
   "display_name": "Python [default]",
   "language": "python",
   "name": "python3"
  },
  "language_info": {
   "codemirror_mode": {
    "name": "ipython",
    "version": 3
   },
   "file_extension": ".py",
   "mimetype": "text/x-python",
   "name": "python",
   "nbconvert_exporter": "python",
   "pygments_lexer": "ipython3",
   "version": "3.5.2"
  }
 },
 "nbformat": 4,
 "nbformat_minor": 2
}
