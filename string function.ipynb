{
 "cells": [
  {
   "cell_type": "code",
   "execution_count": 1,
   "metadata": {
    "collapsed": true
   },
   "outputs": [],
   "source": [
    "import re"
   ]
  },
  {
   "cell_type": "code",
   "execution_count": 2,
   "metadata": {
    "collapsed": true
   },
   "outputs": [],
   "source": [
    "def stuff(s):\n",
    "    # 1. Replace new lines and tab characters with a single space.\n",
    "    s = replaceBreaks(s)\n",
    "    \n",
    "    # 2. Remove URLs\n",
    "    s = splitURLs(s)\n",
    "    \n",
    "    # 3. Split text on a single space. \n",
    "    # If there are multiple contiguous spaces, you will need to remove empty tokens after doing the split.\n",
    "    s = splitSpace(s)\n",
    "    \n",
    "    # 4. Separate all external punctuation such as periods, commas, etc. into their own tokens\n",
    "    \n",
    "    # 5\n",
    "    s = stepFive(s)\n",
    "    \n",
    "    # 6. Convert all text to lowercase\n",
    "    s.lower()\n",
    "    \n",
    "    print(s)\n",
    "\n",
    "    '%'\n",
    "    "
   ]
  },
  {
   "cell_type": "code",
   "execution_count": 4,
   "metadata": {
    "collapsed": true
   },
   "outputs": [],
   "source": [
    "def replaceBreaks(s):\n",
    "    s.replace('\\n', ' ')\n",
    "    s.replace('\\t', ' ')\n",
    "    return s"
   ]
  },
  {
   "cell_type": "code",
   "execution_count": 5,
   "metadata": {
    "collapsed": true
   },
   "outputs": [],
   "source": [
    "def splitURLs(s):\n",
    "    return re.sub(r'http\\S+', '', s)"
   ]
  },
  {
   "cell_type": "code",
   "execution_count": 6,
   "metadata": {
    "collapsed": true
   },
   "outputs": [],
   "source": [
    "def splitSpace(s):\n",
    "    s = s.split()\n",
    "    s = filter(None, s)\n",
    "    return s"
   ]
  },
  {
   "cell_type": "code",
   "execution_count": 15,
   "metadata": {},
   "outputs": [
    {
     "name": "stdout",
     "output_type": "stream",
     "text": [
      "hi im learning; parsing is cool  ' 0528 \n"
     ]
    },
    {
     "data": {
      "text/plain": [
       "\"hi im learning; parsing is cool  ' 0528 \""
      ]
     },
     "execution_count": 15,
     "metadata": {},
     "output_type": "execute_result"
    }
   ],
   "source": [
    "def stepFive(s):\n",
    "#     regex = \"\\d+\"\n",
    "    regex = \"[^a-z0-9.,?!;:' ]\"\n",
    "    v = re.sub(regex,\" \",s)\n",
    "    print(v)\n",
    "    return v\n",
    "\n",
    "    \n",
    "stepFive(\"hi im learning; parsing-is-cool_ ' 0528-\")"
   ]
  },
  {
   "cell_type": "code",
   "execution_count": 187,
   "metadata": {},
   "outputs": [
    {
     "data": {
      "text/plain": [
       "\"hi im learning ; parsing - is-cool _ ' 0528 - \""
      ]
     },
     "execution_count": 187,
     "metadata": {},
     "output_type": "execute_result"
    }
   ],
   "source": [
    "from string import punctuation\n",
    "\n",
    "def stepFour(s):\n",
    "    #split the string by whitespace into a list\n",
    "    s = s.split()\n",
    "    \n",
    "    #duplicate that list so we can do some modifications on that list\n",
    "    final_strings = s[:]\n",
    "    \n",
    "    for word in range(len(s)):\n",
    "        #pad any punctuation with white space using regex\n",
    "        x = re.sub(\"(?<! )(?=['_.:,!;?()-])|(?<=['_.:,!;?()-])(?! )\", r' ', s[word])\n",
    "        s[word] = x\n",
    "        \n",
    "        \n",
    "        final_strings[word] = s[word]\n",
    "\n",
    "        #iterate through each string in the list\n",
    "        for char in range(len(s[word])):\n",
    "            if(s[word][char] in punctuation):\n",
    "                #if there is a punctuation mark that is surrounded by two letters, then delete the whitespace\n",
    "                if(char - 2 >= 0 and char+2 <= len(s[word])-1):\n",
    "                    if((s[word][char-2].isalpha() or s[word][char-2].isdigit()) and (s[word][char+2].isalpha() or s[word][char-2].isdigit())):\n",
    "                        final_strings[word] = s[word][:char-1] + s[word][char] + s[word][char+2:]\n",
    "                                            \n",
    "\n",
    "    s = ' '.join(final_strings)\n",
    "    s = re.sub(\"\\\\s+\",\" \", s)\n",
    "    return s\n",
    "\n",
    "stepFour(\"hi im learning; parsing-is-cool_ ' 0528-\")"
   ]
  },
  {
   "cell_type": "code",
   "execution_count": null,
   "metadata": {
    "collapsed": true
   },
   "outputs": [],
   "source": []
  },
  {
   "cell_type": "code",
   "execution_count": null,
   "metadata": {
    "collapsed": true
   },
   "outputs": [],
   "source": []
  }
 ],
 "metadata": {
  "anaconda-cloud": {},
  "kernelspec": {
   "display_name": "Python 2",
   "language": "python",
   "name": "python2"
  },
  "language_info": {
   "codemirror_mode": {
    "name": "ipython",
    "version": 2
   },
   "file_extension": ".py",
   "mimetype": "text/x-python",
   "name": "python",
   "nbconvert_exporter": "python",
   "pygments_lexer": "ipython2",
   "version": "2.7.13"
  }
 },
 "nbformat": 4,
 "nbformat_minor": 2
}
