{
 "cells": [
  {
   "cell_type": "code",
   "execution_count": 1,
   "metadata": {},
   "outputs": [],
   "source": [
    "import re"
   ]
  },
  {
   "cell_type": "code",
   "execution_count": null,
   "metadata": {},
   "outputs": [],
   "source": [
    "def stuff(s):\n",
    "    # 1. Replace new lines and tab characters with a single space.\n",
    "    s.replace('\\n', ' ')\n",
    "    s.replace('\\t', ' ')\n",
    "    \n",
    "    # 2. Remove URLs\n",
    "    \n",
    "    # 3. Split text on a single space. \n",
    "    # If there are multiple contiguous spaces, you will need to remove empty tokens after doing the split.\n",
    "    \n",
    "    \n",
    "    # 4. Separate all external punctuation such as periods, commas, etc. into their own tokens\n",
    "    \n",
    "    # 5/\n",
    "\n",
    "    '%'\n",
    "    "
   ]
  },
  {
   "cell_type": "code",
   "execution_count": null,
   "metadata": {},
   "outputs": [],
   "source": []
  }
 ],
 "metadata": {
  "kernelspec": {
   "display_name": "Python 3",
   "language": "python",
   "name": "python3"
  },
  "language_info": {
   "codemirror_mode": {
    "name": "ipython",
    "version": 3
   },
   "file_extension": ".py",
   "mimetype": "text/x-python",
   "name": "python",
   "nbconvert_exporter": "python",
   "pygments_lexer": "ipython3",
   "version": "3.6.4"
  }
 },
 "nbformat": 4,
 "nbformat_minor": 2
}
